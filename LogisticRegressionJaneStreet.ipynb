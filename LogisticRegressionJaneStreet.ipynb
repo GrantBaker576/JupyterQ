{
 "cells": [
  {
   "cell_type": "markdown",
   "metadata": {},
   "source": [
    "The following is a logistic regression approach to trade data supplied by Jane Street in a Kaggle Machine Learning competition: https://www.kaggle.com/c/jane-street-market-prediction\n",
    "There are 130 anonymized, normalized features for each row of data respresenting possible trades. The return over various time horizons is also supplied, as well as weights for each trade. Using machine learning, the aim is to create an online version of an algorithm created with the test data. \n",
    "Due to the immense size of the dataset, I will be using kdb in my exploratory analysis and model selection/fitting."
   ]
  },
  {
   "cell_type": "code",
   "execution_count": 1,
   "metadata": {},
   "outputs": [
    {
     "name": "stdout",
     "output_type": "stream",
     "text": [
      "\r\n",
      "Welcome to quantQ\r\n",
      "   ____ \\ \\   \r\n",
      "  / ___| \\ \\  \r\n",
      " | |_| |  ) )   \r\n",
      "  \\__  | / /   \r\n",
      "     |_|/ /     \r\n",
      "\r\n",
      "For available sub-namespaces, type key`.quantQ:\r\n",
      "()\n",
      "\r\n",
      "For functions in a namespace, type .e.g \\f .quantQ.rf\r\n",
      "\r\n"
     ]
    }
   ],
   "source": [
    "\\c 100 100\n",
    "\\cd C:\\q\\w32\\\n",
    "\n",
    "/ Import Python libraries\n",
    "\\l p.q\n",
    "/import several ml libraries\n",
    "\\l quantQ\\lib\\quantQjupyterq.q\n",
    "\\l mlnotebooks\\utils\\graphics.q\n",
    "\\l automl\\automl.q\n",
    "\n",
    "\n",
    "\\l ml\\ml.q\n",
    "\n",
    "\\l mlnotebooks\\utils\\graphics.q\n",
    "\\l mlnotebooks\\utils\\util.q\n",
    "/Fun Q ml library\n",
    "\\l funq\\funqJQ.q\n",
    "/graphing \n",
    "\\l embedPy\\examples\\importmatplotlib.q\n",
    "plt:.matplotlib.pyplot[]\n"
   ]
  },
  {
   "cell_type": "code",
   "execution_count": 2,
   "metadata": {},
   "outputs": [
    {
     "data": {
      "text/plain": [
       "`features\r\n"
      ]
     },
     "execution_count": 2,
     "metadata": {},
     "output_type": "execute_result"
    },
    {
     "name": "stdout",
     "output_type": "stream",
     "text": [
      "feature  | tag_0 tag_1 tag_2 tag_3 tag_4 tag_5 tag_6 tag_7 tag_8 tag_9 tag_10 tag_11 tag_12 tag_1..\r\n",
      "---------| --------------------------------------------------------------------------------------..\r\n",
      "feature_0| 0     0     0     0     0     0     0     0     0     0     0      0      0      0    ..\r\n",
      "feature_1| 0     0     0     0     0     0     1     1     0     0     0      0      0      0    ..\r\n",
      "feature_2| 0     0     0     0     0     0     1     1     0     1     0      0      0      0    ..\r\n",
      "feature_3| 0     0     0     0     0     0     1     0     1     0     0      0      0      0    ..\r\n",
      "feature_4| 0     0     0     0     0     0     1     0     1     1     0      0      0      0    ..\r\n",
      "feature_5| 0     0     0     0     0     0     1     0     0     0     1      0      0      0    ..\r\n",
      "feature_6| 0     0     0     0     0     0     1     0     0     1     1      0      0      0    ..\r\n",
      "feature_7| 0     0     0     0     1     0     1     0     0     0     0      1      0      0    ..\r\n",
      "feature_8| 0     0     0     0     1     0     1     0     0     1     0      1      0      0    ..\r\n",
      "feature_9| 1     0     0     0     0     0     1     0     0     0     0      1      0      0    ..\r\n"
     ]
    }
   ],
   "source": [
    "//A True/false table is given for our 130 features\n",
    "features:(\"SSSSSSSSSSSSSSSSSSSSSSSSSSSSSS\";enlist\",\") 0: `:C:/MLProjects/JaneStreetMarketPrediction/features.csv\n",
    "features:(select feature from features) ,'(flip 1_flip features = `TRUE)\n",
    "`feature xkey `features \n",
    "features:\"f\"$features\n",
    "show 10#features\n",
    "\n",
    "//1 for true, 0 for false"
   ]
  },
  {
   "cell_type": "code",
   "execution_count": 3,
   "metadata": {},
   "outputs": [],
   "source": [
    "//load 500 days of trade data\n",
    "t:(\"FFFFFFFFFFFFFFFFFFFFFFFFFFFFFFFFFFFFFFFFFFFFFFFFFFFFFFFFFFFFFFFFFFFFFFFFFFFFFFFFFFFFFFFFFFFFFFFFFFFFFFFFFFFFFFFFFFFFFFFFFFFFFFFFFFFFFFFFFF\";enlist\",\") 0: `:C:/MLProjects/JaneStreetMarketPrediction/train.csv"
   ]
  },
  {
   "cell_type": "code",
   "execution_count": 4,
   "metadata": {},
   "outputs": [
    {
     "data": {
      "text/plain": [
       "`t\r\n"
      ]
     },
     "execution_count": 4,
     "metadata": {},
     "output_type": "execute_result"
    }
   ],
   "source": [
    "//key the table based on date\n",
    "`date xkey `t\n",
    "//apply sort attribute on table t\n",
    "`s#t;"
   ]
  },
  {
   "cell_type": "code",
   "execution_count": null,
   "metadata": {},
   "outputs": [],
   "source": []
  },
  {
   "cell_type": "code",
   "execution_count": 5,
   "metadata": {},
   "outputs": [
    {
     "data": {
      "text/plain": [
       "111694\r\n"
      ]
     },
     "execution_count": 5,
     "metadata": {},
     "output_type": "execute_result"
    },
    {
     "data": {
      "text/plain": [
       "1093808\r\n"
      ]
     },
     "execution_count": 5,
     "metadata": {},
     "output_type": "execute_result"
    },
    {
     "data": {
      "text/plain": [
       "1073823\r\n"
      ]
     },
     "execution_count": 5,
     "metadata": {},
     "output_type": "execute_result"
    },
    {
     "data": {
      "text/plain": [
       "111166\r\n"
      ]
     },
     "execution_count": 5,
     "metadata": {},
     "output_type": "execute_result"
    }
   ],
   "source": [
    "count select from t where resp_4 >0, resp<0\n",
    "count select from t where resp_4 >0, resp>0\n",
    "\n",
    "count select from t where resp_4 <0, resp<0\n",
    "count select from t where resp_4 <0, resp>0"
   ]
  },
  {
   "cell_type": "code",
   "execution_count": 6,
   "metadata": {},
   "outputs": [],
   "source": [
    "/\n",
    "There is a high likelihood of\n",
    "\n",
    "Rule 1: Optimize for resp_4\n",
    "Rule 2: Don't take trades with weight above X\n",
    "Rule 3: End model uses online learning\n",
    "Rule 4: Be prepared for regime change (Identify the change itself, warning signs, and effects)\n",
    "Rule 5: Feature Engineer lagging indicators"
   ]
  },
  {
   "cell_type": "code",
   "execution_count": 7,
   "metadata": {},
   "outputs": [
    {
     "data": {
      "text/plain": [
       "`t\r\n"
      ]
     },
     "execution_count": 7,
     "metadata": {},
     "output_type": "execute_result"
    },
    {
     "data": {
      "text/plain": [
       "{[f;x]embedPy[f;x]}[foreign]enlist\r\n"
      ]
     },
     "execution_count": 7,
     "metadata": {},
     "output_type": "execute_result"
    },
    {
     "data": {
      "image/png": "[encoded data removed]",
      "text/plain": [
       "<Figure size 460.8x345.6 with 1 Axes>"
      ]
     },
     "metadata": {},
     "output_type": "display_data"
    }
   ],
   "source": [
    "update sumresp:sums resp_1 from `t\n",
    "plt.xlabel\"Date\";\n",
    "plt.ylabel\"Price change\";\n",
    "plt.title\"Asset Price (cumulative resp_1)\";\n",
    "plt.grid 1b;\n",
    "plt.scatter[exec sumresp from t;  exec date from t]\n",
    "plt.show[];"
   ]
  },
  {
   "cell_type": "code",
   "execution_count": 8,
   "metadata": {},
   "outputs": [],
   "source": [
    "//we see the asset appreciate over time, making most trades profitable\n",
    "//we will likely see very similar trading days. We will try to cluster trading days together later on\n",
    "delete sumresp from `t;"
   ]
  },
  {
   "cell_type": "code",
   "execution_count": 9,
   "metadata": {},
   "outputs": [],
   "source": [
    "//We analyze the data on a per day basis. \n",
    "\n",
    "day0t:select from t where date=0\n",
    "day0t:0!day0t //unkey\n",
    "delete date, weight, ts_id  from `day0t;\n",
    "update trade:0 from `day0t;\n",
    "update trade: 1 from `day0t where  resp>0;\n",
    "day0t:`trade xcols day0t"
   ]
  },
  {
   "cell_type": "code",
   "execution_count": 10,
   "metadata": {},
   "outputs": [
    {
     "data": {
      "text/plain": [
       "`d.train\r\n"
      ]
     },
     "execution_count": 10,
     "metadata": {},
     "output_type": "execute_result"
    },
    {
     "data": {
      "text/plain": [
       "`d.test\r\n"
      ]
     },
     "execution_count": 10,
     "metadata": {},
     "output_type": "execute_result"
    }
   ],
   "source": [
    "//Partition data into training and testing, no time series data leakage\n",
    "d:.ut.part[`train`test!3 1;til] \"f\"$day0t\n",
    "//fill nulls\n",
    "d.train:0f^d.train\n",
    "d.test:0f^d.test\n",
    "delete resp_1, resp_2, resp_3, resp_4, resp from `d.train\n",
    "delete resp_1, resp_2, resp_3, resp_4, resp from `d.test"
   ]
  },
  {
   "cell_type": "code",
   "execution_count": 11,
   "metadata": {},
   "outputs": [],
   "source": [
    "y:first get first `Y`X set' 0 1 cut value flip d`train\n",
    "yt:first get first `Yt`Xt set' 0 1 cut value flip d`test\n",
    "\n"
   ]
  },
  {
   "cell_type": "code",
   "execution_count": 12,
   "metadata": {},
   "outputs": [],
   "source": [
    "zsf:.ml.zscoref each X\n",
    "X:zsf @' X\n",
    "Xt:zsf @' Xt"
   ]
  },
  {
   "cell_type": "code",
   "execution_count": 13,
   "metadata": {},
   "outputs": [
    {
     "name": "stdout",
     "output_type": "stream",
     "text": [
      "0 0 0 0 0 0 0 0 0 0 0 0 0 0 0 0 0 0 0 0 0 0 0 0 0 0 0 0 0 0 0 0 0 0 0 0 0 0 0 0 0 0 0 0 0 0 0 0 0..\n",
      "Iteration 2000 | cost: 0.6199943\n"
     ]
    },
    {
     "data": {
      "text/plain": [
       "0.6392269\r\n"
      ]
     },
     "execution_count": 13,
     "metadata": {},
     "output_type": "execute_result"
    }
   ],
   "source": [
    "//unregularized\n",
    "show THETA:enlist theta:(1+count X)#0f\n",
    "THETA:1#.fmincg.fmincg[2000;.ml.logcostgrad[();Y;X];THETA 0]\n",
    "avg yt=first \"i\"$.ml.plog[Xt] THETA"
   ]
  },
  {
   "cell_type": "code",
   "execution_count": 14,
   "metadata": {},
   "outputs": [
    {
     "name": "stdout",
     "output_type": "stream",
     "text": [
      "Iteration 1000 | cost: 0.6199939\n",
      "Iteration 1000 | cost: 0.6205895\n",
      "Iteration 1000 | cost: 0.6211261\n",
      "Iteration 1000 | cost: 0.6216119\n",
      "Iteration 1000 | cost: 0.6220583\n",
      "Iteration 1000 | cost: 0.6224699\n",
      "Iteration 1000 | cost: 0.6228538\n",
      "Iteration 1000 | cost: 0.6232106\n",
      "Iteration 1000 | cost: 0.623546\n",
      "Iteration 1000 | cost: 0.6238618\n",
      "Iteration 1000 | cost: 0.6241602\n",
      "Iteration 1000 | cost: 0.6244429\n"
     ]
    }
   ],
   "source": [
    "//We will now regularize\n",
    "f:.ml.logcost[();Yt;Xt]1#.fmincg.fmincg[;;THETA 0]::\n",
    "l2:.ut.sseq[.05;0;.55]\n",
    "e:(f[1000] .ml.logcostgrad[;Y;X] .ml.l2@) each l2"
   ]
  },
  {
   "cell_type": "code",
   "execution_count": 15,
   "metadata": {},
   "outputs": [
    {
     "data": {
      "text/plain": [
       "0.55\r\n"
      ]
     },
     "execution_count": 15,
     "metadata": {},
     "output_type": "execute_result"
    }
   ],
   "source": [
    "//Find optimal l2 regularization\n",
    ".ml.imin l2!e"
   ]
  },
  {
   "cell_type": "code",
   "execution_count": 52,
   "metadata": {},
   "outputs": [
    {
     "name": "stdout",
     "output_type": "stream",
     "text": [
      "Iteration 1000 | cost: 0.6905161\n"
     ]
    }
   ],
   "source": [
    "//0.55 is the optimal l2 regularization parameter\n",
    "THETA:1#.fmincg.fmincg[1000;.ml.logcostgrad[.ml.l2[0.55];Y;X]; THETA 0]"
   ]
  },
  {
   "cell_type": "code",
   "execution_count": 53,
   "metadata": {},
   "outputs": [
    {
     "data": {
      "text/plain": [
       "0.52 0.5 0.51 0.52 0.51 0.53 0.49 0.5 0.56 0.49 0.48 0.53 0.49 0.52 0.53 0.49 0.52 0.5 0.54 0.52 ..\r\n"
      ]
     },
     "execution_count": 53,
     "metadata": {},
     "output_type": "execute_result"
    }
   ],
   "source": [
    ".ut.rnd[0.01] p0:first .ml.plog[Xt] THETA"
   ]
  },
  {
   "cell_type": "code",
   "execution_count": 54,
   "metadata": {},
   "outputs": [
    {
     "data": {
      "text/plain": [
       "1 0 1 1 1 1 0 1 1 0 0 1 0 1 1 0 1 0 1 1 0 1 1 1 1 1 1 0 1 1 0 1 0 0 1 1 1 1 1 0 1 1 1 0 1 0 1 1 1..\r\n"
      ]
     },
     "execution_count": 54,
     "metadata": {},
     "output_type": "execute_result"
    },
    {
     "data": {
      "text/plain": [
       "0.5375805\r\n"
      ]
     },
     "execution_count": 54,
     "metadata": {},
     "output_type": "execute_result"
    }
   ],
   "source": [
    "\"i\"$p0\n",
    "avg yt=\"i\"$p0"
   ]
  },
  {
   "cell_type": "code",
   "execution_count": 55,
   "metadata": {},
   "outputs": [
    {
     "data": {
      "text/plain": [
       "`testTable0\r\n"
      ]
     },
     "execution_count": 55,
     "metadata": {},
     "output_type": "execute_result"
    },
    {
     "data": {
      "text/plain": [
       "resp          \r\n",
       "--------------\r\n",
       "-6.629976e-005\r\n"
      ]
     },
     "execution_count": 55,
     "metadata": {},
     "output_type": "execute_result"
    }
   ],
   "source": [
    "// 53.75% accuracy on test data is not good. \n",
    "testTable0:1397#t\n",
    "update test0:p0>0.5 from `testTable0\n",
    "select avg resp from testTable0 where test0=1"
   ]
  },
  {
   "cell_type": "code",
   "execution_count": 56,
   "metadata": {},
   "outputs": [
    {
     "data": {
      "text/plain": [
       "resp        \r\n",
       "------------\r\n",
       "0.0003523198\r\n"
      ]
     },
     "execution_count": 56,
     "metadata": {},
     "output_type": "execute_result"
    },
    {
     "data": {
      "text/plain": [
       "resp       \r\n",
       "-----------\r\n",
       "0.001306497\r\n"
      ]
     },
     "execution_count": 56,
     "metadata": {},
     "output_type": "execute_result"
    },
    {
     "data": {
      "text/plain": [
       "3.708271\r\n"
      ]
     },
     "execution_count": 56,
     "metadata": {},
     "output_type": "execute_result"
    }
   ],
   "source": [
    "select avg resp from testTable0\n",
    "select avg resp from testTable0 where test0=0\n",
    "(exec avg resp from testTable0 where test0=0)%(exec avg resp from testTable0)"
   ]
  },
  {
   "cell_type": "code",
   "execution_count": 57,
   "metadata": {},
   "outputs": [
    {
     "data": {
      "text/plain": [
       "`delta0t\r\n"
      ]
     },
     "execution_count": 57,
     "metadata": {},
     "output_type": "execute_result"
    }
   ],
   "source": [
    "//A 270% increase in return over random selection is great, though we have to reverse the intent of the algo\n",
    "//Instead of predicting trades using features, we will use the change in features\n",
    "delta0t:day0t - prev day0t\n",
    "delta0:0f^delta0t\n",
    "update trade:(exec trade from day0t) from `delta0t\n",
    "delta0t:1_delta0t; //drop first row\n",
    "delta0:.ut.part[`train`test!3 1;til] \"f\"$delta0t\n",
    "delete resp_1, resp_2, resp_3, resp_4, resp from `delta0.train;\n",
    "delete resp_1, resp_2, resp_3, resp_4, resp from `delta0.test;\n",
    "delta0.train:0f^delta0.train\n",
    "delta0.test:0f^delta0.test"
   ]
  },
  {
   "cell_type": "code",
   "execution_count": 58,
   "metadata": {},
   "outputs": [],
   "source": [
    "y:first get first `Y`X set' 0 1 cut value flip delta0.train\n",
    "yt:first get first `Yt`Xt set' 0 1 cut value flip delta0.test\n",
    "\n",
    "zsf:.ml.zscoref each X\n",
    "X:zsf @' X\n",
    "Xt:zsf @' Xt"
   ]
  },
  {
   "cell_type": "code",
   "execution_count": 59,
   "metadata": {},
   "outputs": [
    {
     "name": "stdout",
     "output_type": "stream",
     "text": [
      "0 0 0 0 0 0 0 0 0 0 0 0 0 0 0 0 0 0 0 0 0 0 0 0 0 0 0 0 0 0 0 0 0 0 0 0 0 0 0 0 0 0 0 0 0 0 0 0 0..\n",
      "Iteration 1000 | cost: 0.6543637\n",
      "Iteration 1000 | cost: 0.6546062\n",
      "Iteration 1000 | cost: 0.6548315\n",
      "Iteration 1000 | cost: 0.6550414\n",
      "Iteration 1000 | cost: 0.6552398\n",
      "Iteration 1000 | cost: 0.6554231\n",
      "Iteration 1000 | cost: 0.6555968\n",
      "Iteration 1000 | cost: 0.6557618\n",
      "Iteration 1000 | cost: 0.6559181\n",
      "Iteration 1000 | cost: 0.6560667\n",
      "Iteration 1000 | cost: 0.6562088\n",
      "Iteration 1000 | cost: 0.6563445\n"
     ]
    }
   ],
   "source": [
    "show THETA:enlist theta:(1+count X)#0f\n",
    "f:.ml.logcost[();Yt;Xt]1#.fmincg.fmincg[;;THETA 0]::\n",
    "l2:.ut.sseq[.05;0;.55]\n",
    "e:(f[1000] .ml.logcostgrad[;Y;X] .ml.l2@) each l2"
   ]
  },
  {
   "cell_type": "code",
   "execution_count": 60,
   "metadata": {},
   "outputs": [
    {
     "name": "stdout",
     "output_type": "stream",
     "text": [
      "0.55\r\n"
     ]
    }
   ],
   "source": [
    "//Find optimal l2 regularization\n",
    "show l2reg:.ml.imin l2!e"
   ]
  },
  {
   "cell_type": "code",
   "execution_count": 61,
   "metadata": {},
   "outputs": [
    {
     "name": "stdout",
     "output_type": "stream",
     "text": [
      "Iteration 1000 | cost: 0.6563445\n"
     ]
    },
    {
     "data": {
      "text/plain": [
       "0.55 0.62 0.32 0.6 0.44 0.67 0.38 0.78 0.42 0.38 0.66 0.26 0.56 0.5 0.48 0.58 0.38 0.53 0.5 0.59 ..\r\n"
      ]
     },
     "execution_count": 61,
     "metadata": {},
     "output_type": "execute_result"
    },
    {
     "data": {
      "text/plain": [
       "1 1 0 1 0 1 0 1 0 0 1 0 1 0 0 1 0 1 1 1 1 1 1 0 1 0 1 1 0 1 1 0 0 1 0 1 0 1 0 1 0 1 0 1 1 0 0 1 1..\r\n"
      ]
     },
     "execution_count": 61,
     "metadata": {},
     "output_type": "execute_result"
    },
    {
     "data": {
      "text/plain": [
       "0.6012885\r\n"
      ]
     },
     "execution_count": 61,
     "metadata": {},
     "output_type": "execute_result"
    }
   ],
   "source": [
    "//0.55 is still the optimal l2 regularization parameter\n",
    "THETA:1#.fmincg.fmincg[1000;.ml.logcostgrad[.ml.l2[l2reg];Y;X]; THETA 0]\n",
    ".ut.rnd[0.01] p:first .ml.plog[Xt] THETA\n",
    "\"i\"$p\n",
    "avg yt=\"i\"$p"
   ]
  },
  {
   "cell_type": "code",
   "execution_count": 62,
   "metadata": {},
   "outputs": [],
   "source": [
    "//60% accuracy is not a bad score as a trade selector\n",
    "//We can still see if the predicted trades have \n",
    "p:0,p //replace initial row"
   ]
  },
  {
   "cell_type": "code",
   "execution_count": 63,
   "metadata": {},
   "outputs": [
    {
     "data": {
      "text/plain": [
       "1398\r\n"
      ]
     },
     "execution_count": 63,
     "metadata": {},
     "output_type": "execute_result"
    }
   ],
   "source": [
    "count p>.5"
   ]
  },
  {
   "cell_type": "code",
   "execution_count": 64,
   "metadata": {},
   "outputs": [
    {
     "data": {
      "text/plain": [
       "`testTable\r\n"
      ]
     },
     "execution_count": 64,
     "metadata": {},
     "output_type": "execute_result"
    }
   ],
   "source": [
    "testTable:1398#t\n",
    "update test:p>0.5 from `testTable"
   ]
  },
  {
   "cell_type": "code",
   "execution_count": 65,
   "metadata": {},
   "outputs": [
    {
     "data": {
      "text/plain": [
       "resp         \r\n",
       "-------------\r\n",
       "-0.0005294266\r\n"
      ]
     },
     "execution_count": 65,
     "metadata": {},
     "output_type": "execute_result"
    }
   ],
   "source": [
    "select avg resp from testTable where test=1"
   ]
  },
  {
   "cell_type": "code",
   "execution_count": 66,
   "metadata": {},
   "outputs": [
    {
     "data": {
      "text/plain": [
       "resp        \r\n",
       "------------\r\n",
       "0.0003325124\r\n"
      ]
     },
     "execution_count": 66,
     "metadata": {},
     "output_type": "execute_result"
    },
    {
     "data": {
      "text/plain": [
       "resp       \r\n",
       "-----------\r\n",
       "0.001330127\r\n"
      ]
     },
     "execution_count": 66,
     "metadata": {},
     "output_type": "execute_result"
    },
    {
     "data": {
      "text/plain": [
       "4.000233\r\n"
      ]
     },
     "execution_count": 66,
     "metadata": {},
     "output_type": "execute_result"
    }
   ],
   "source": [
    "select avg resp from testTable\n",
    "select avg resp from testTable where test=0\n",
    "(exec avg resp from testTable where test=0)%(exec avg resp from testTable)"
   ]
  },
  {
   "cell_type": "code",
   "execution_count": 67,
   "metadata": {},
   "outputs": [
    {
     "data": {
      "text/plain": [
       "resp     \r\n",
       "---------\r\n",
       "0.0185262\r\n"
      ]
     },
     "execution_count": 67,
     "metadata": {},
     "output_type": "execute_result"
    }
   ],
   "source": [
    "//Interestingly, when we inverse the intent of the algo we do quite well, 4x better in fact.\n",
    "//selection via feature deltas is significantly better than using features\n",
    "//Below is the  best possibl score\n",
    "select avg resp from testTable where resp>0"
   ]
  },
  {
   "cell_type": "code",
   "execution_count": 68,
   "metadata": {},
   "outputs": [],
   "source": [
    "//These are just the THETAs for a single day. We make the assumption that each day has different trading dynamics\n",
    "//We now must test our THETAs over a period of dates\n",
    "//Perhaps there are similar trading days which we can cluster"
   ]
  },
  {
   "cell_type": "code",
   "execution_count": 69,
   "metadata": {},
   "outputs": [],
   "source": [
    "//create day1t table\n",
    "day1t:select from t where date=1\n",
    "day1t:0!day1t //unkey\n",
    "delete date, weight, ts_id  from `day1t;\n",
    "update trade:0 from `day1t;\n",
    "update trade: 1 from `day1t where  resp>0;\n",
    "day1t:`trade xcols day1t"
   ]
  },
  {
   "cell_type": "code",
   "execution_count": 70,
   "metadata": {},
   "outputs": [
    {
     "data": {
      "text/plain": [
       "`delta1t\r\n"
      ]
     },
     "execution_count": 70,
     "metadata": {},
     "output_type": "execute_result"
    }
   ],
   "source": [
    "//create delta1t table\n",
    "delta1t:day1t - prev day1t\n",
    "update trade:(exec trade from day1t) from `delta1t\n",
    "delta1t:1_delta1t; //drop first row\n",
    "delta1:0f^delta1t\n",
    "delete resp_1, resp_2, resp_3, resp_4, resp from `delta1;\n",
    "delta1:0f^delta1\n"
   ]
  },
  {
   "cell_type": "code",
   "execution_count": 71,
   "metadata": {},
   "outputs": [],
   "source": [
    "y:first get first `Y`X set' 0 1 cut value flip delta1\n",
    "zsf:.ml.zscoref each X\n",
    "X:zsf @' X\n",
    "\n"
   ]
  },
  {
   "cell_type": "code",
   "execution_count": 72,
   "metadata": {},
   "outputs": [
    {
     "data": {
      "text/plain": [
       "0.95 0.53 0.59 0.47 0.4 0.7 0.57 0.43 0.64 0.26 0.75 0.51 0.43 0.45 0.51 0.4 0.74 0.3 0.66 0.49 0..\r\n"
      ]
     },
     "execution_count": 72,
     "metadata": {},
     "output_type": "execute_result"
    },
    {
     "data": {
      "text/plain": [
       "1 1 1 0 0 1 1 0 1 0 1 1 0 0 1 0 1 0 1 0 0 1 1 0 1 1 0 1 0 0 1 0 0 1 1 0 1 1 1 0 1 0 1 1 1 0 1 0 1..\r\n"
      ]
     },
     "execution_count": 72,
     "metadata": {},
     "output_type": "execute_result"
    },
    {
     "data": {
      "text/plain": [
       "0.4474468\r\n"
      ]
     },
     "execution_count": 72,
     "metadata": {},
     "output_type": "execute_result"
    }
   ],
   "source": [
    ".ut.rnd[0.01] p1:first .ml.plog[X] THETA\n",
    "\"i\"$p1\n",
    "avg y=\"i\"$p1"
   ]
  },
  {
   "cell_type": "code",
   "execution_count": 73,
   "metadata": {},
   "outputs": [
    {
     "data": {
      "text/plain": [
       "9401\r\n"
      ]
     },
     "execution_count": 73,
     "metadata": {},
     "output_type": "execute_result"
    },
    {
     "data": {
      "text/plain": [
       "9401\r\n"
      ]
     },
     "execution_count": 73,
     "metadata": {},
     "output_type": "execute_result"
    }
   ],
   "source": [
    "p1:0,p1 //replace initial row\n",
    "count p1\n",
    "count select from t where date=1"
   ]
  },
  {
   "cell_type": "code",
   "execution_count": 74,
   "metadata": {},
   "outputs": [
    {
     "data": {
      "text/plain": [
       "`testTable1\r\n"
      ]
     },
     "execution_count": 74,
     "metadata": {},
     "output_type": "execute_result"
    }
   ],
   "source": [
    "testTable1:select from t where date =1\n",
    "update test:p1>0.5 from `testTable1"
   ]
  },
  {
   "cell_type": "code",
   "execution_count": 75,
   "metadata": {},
   "outputs": [
    {
     "data": {
      "text/plain": [
       "resp        \r\n",
       "------------\r\n",
       "-0.004425147\r\n"
      ]
     },
     "execution_count": 75,
     "metadata": {},
     "output_type": "execute_result"
    }
   ],
   "source": [
    "select avg resp from testTable1 where test=1"
   ]
  },
  {
   "cell_type": "code",
   "execution_count": 76,
   "metadata": {},
   "outputs": [
    {
     "data": {
      "text/plain": [
       "resp        \r\n",
       "------------\r\n",
       "-0.001195134\r\n"
      ]
     },
     "execution_count": 76,
     "metadata": {},
     "output_type": "execute_result"
    },
    {
     "data": {
      "text/plain": [
       "resp       \r\n",
       "-----------\r\n",
       "0.002487066\r\n"
      ]
     },
     "execution_count": 76,
     "metadata": {},
     "output_type": "execute_result"
    },
    {
     "data": {
      "text/plain": [
       "2.080993\r\n"
      ]
     },
     "execution_count": 76,
     "metadata": {},
     "output_type": "execute_result"
    }
   ],
   "source": [
    "select avg resp from testTable1\n",
    "select avg resp from testTable1 where test=0\n",
    "abs((exec avg resp from testTable1 where test=0)%(exec avg resp from testTable1))"
   ]
  },
  {
   "cell_type": "code",
   "execution_count": 77,
   "metadata": {},
   "outputs": [],
   "source": [
    "//Even on a different day, we still have positive results (108% increase), though the THETAs likely would need to be adjusted.\n",
    "//We can either find new THETAs across a larger set of dates and apply to the table, or find new THETAs every so often\n",
    "//It is unlikely there is some static set of THETAs which will give us what we want, but it doesn't hurt to try"
   ]
  },
  {
   "cell_type": "code",
   "execution_count": 78,
   "metadata": {},
   "outputs": [
    {
     "data": {
      "text/plain": [
       "`delta30t\r\n"
      ]
     },
     "execution_count": 78,
     "metadata": {},
     "output_type": "execute_result"
    }
   ],
   "source": [
    "//We will start out by applying current THETAs to first 30 days to see how alpha deteriorates over time\n",
    "/create table\n",
    "t30:select from t where date<31\n",
    "t30:0!t30 //unkey\n",
    "delete date, weight, ts_id  from `t30;\n",
    "update trade:0 from `t30;\n",
    "update trade: 1 from `t30 where  resp>0;\n",
    "t30:`trade xcols t30\n",
    "\n",
    "/create delta table\n",
    "\n",
    "delta30t:t30 - prev t30\n",
    "update trade:(exec trade from t30) from `delta30t\n",
    "delta30t:1_delta30t; //drop first row\n",
    "delta30:0f^delta30t\n",
    "delete resp_1, resp_2, resp_3, resp_4, resp from `delta30;\n",
    "delta30:0f^delta30\n",
    "\n",
    "y:first get first `Y`X set' 0 1 cut value flip delta30\n",
    "zsf:.ml.zscoref each X\n",
    "X:zsf @' X\n"
   ]
  },
  {
   "cell_type": "code",
   "execution_count": 79,
   "metadata": {},
   "outputs": [
    {
     "data": {
      "text/plain": [
       "0.36 0.6 0.47 0.61 0.37 0.51 0.55 0.61 0.52 0.44 0.59 0.45 0.45 0.62 0.45 0.6 0.46 0.41 0.65 0.39..\r\n"
      ]
     },
     "execution_count": 79,
     "metadata": {},
     "output_type": "execute_result"
    },
    {
     "data": {
      "text/plain": [
       "0 1 0 1 0 1 1 1 1 0 1 0 0 1 0 1 0 0 1 0 1 1 1 0 0 1 0 1 0 0 0 0 1 1 1 1 0 0 1 0 1 1 1 0 1 1 0 1 0..\r\n"
      ]
     },
     "execution_count": 79,
     "metadata": {},
     "output_type": "execute_result"
    },
    {
     "data": {
      "text/plain": [
       "0.5007792\r\n"
      ]
     },
     "execution_count": 79,
     "metadata": {},
     "output_type": "execute_result"
    }
   ],
   "source": [
    ".ut.rnd[0.01] p30:first .ml.plog[X] THETA\n",
    "\"i\"$p30\n",
    "avg y=\"i\"$p30"
   ]
  },
  {
   "cell_type": "code",
   "execution_count": 80,
   "metadata": {},
   "outputs": [
    {
     "data": {
      "text/plain": [
       "197635\r\n"
      ]
     },
     "execution_count": 80,
     "metadata": {},
     "output_type": "execute_result"
    },
    {
     "data": {
      "text/plain": [
       "197635\r\n"
      ]
     },
     "execution_count": 80,
     "metadata": {},
     "output_type": "execute_result"
    }
   ],
   "source": [
    "p30:0,p30 //replace initial row\n",
    "count p30\n",
    "count select from t30 "
   ]
  },
  {
   "cell_type": "code",
   "execution_count": 81,
   "metadata": {},
   "outputs": [
    {
     "data": {
      "text/plain": [
       "`t30\r\n"
      ]
     },
     "execution_count": 81,
     "metadata": {},
     "output_type": "execute_result"
    }
   ],
   "source": [
    "update test:p30>0.5 from `t30"
   ]
  },
  {
   "cell_type": "code",
   "execution_count": 83,
   "metadata": {},
   "outputs": [],
   "source": [
    "update date:(count t30)#(exec date from t) from `t30;"
   ]
  },
  {
   "cell_type": "code",
   "execution_count": 84,
   "metadata": {},
   "outputs": [
    {
     "data": {
      "text/plain": [
       "date| resp          \r\n",
       "----| --------------\r\n",
       "0   | -0.003912333  \r\n",
       "1   | 0.002706875   \r\n",
       "2   | 0.001135305   \r\n",
       "3   | -4.366495e-005\r\n",
       "4   | -0.0007514599 \r\n",
       "5   | 0.006626119   \r\n",
       "6   | 0.001959713   \r\n",
       "7   | -0.002758925  \r\n",
       "8   | -0.0007434203 \r\n",
       "9   | 0.005426438   \r\n",
       "10  | 0.002385821   \r\n",
       "11  | -0.001534399  \r\n",
       "12  | -0.0007477914 \r\n",
       "13  | 0.001906472   \r\n",
       "14  | -0.0007332412 \r\n",
       "15  | 0.0001541447  \r\n",
       "16  | -0.001930678  \r\n",
       "17  | 0.003427274   \r\n",
       "18  | 0.002756853   \r\n",
       "19  | 0.006212003   \r\n",
       "20  | -0.0001562282 \r\n",
       "21  | -0.0008245328 \r\n",
       "22  | -0.00259114   \r\n",
       "23  | 5.918281e-005 \r\n",
       "24  | -0.002901787  \r\n",
       "25  | 0.00367755    \r\n",
       "26  | -0.001332375  \r\n",
       "27  | 0.00344361    \r\n",
       "28  | 0.001423663   \r\n",
       "29  | 0.007244302   \r\n",
       "30  | -0.001174495  \r\n"
      ]
     },
     "execution_count": 84,
     "metadata": {},
     "output_type": "execute_result"
    }
   ],
   "source": [
    "select avg resp by date from t30 where test=0"
   ]
  },
  {
   "cell_type": "markdown",
   "metadata": {},
   "source": [
    "Although we had positive initial results, we can see that re-using the THETAs over different trading days does not give consistent results. It is possible that different sets of THETAs for our logistic regression could yield positive results when used on certain \"types\" of trading days, which could be determined by various clustering methods, but a cluster analysis is beyond the scope of this notebook."
   ]
  }
 ],
 "metadata": {
  "kernelspec": {
   "display_name": "Q (kdb+)",
   "language": "q",
   "name": "qpk"
  },
  "language_info": {
   "file_extension": ".q",
   "mimetype": "text/x-q",
   "name": "q",
   "version": "4.0"
  }
 },
 "nbformat": 4,
 "nbformat_minor": 4
}
