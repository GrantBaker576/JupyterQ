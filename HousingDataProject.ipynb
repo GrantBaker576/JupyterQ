{
 "cells": [
  {
   "cell_type": "code",
   "execution_count": 1,
   "metadata": {},
   "outputs": [
    {
     "name": "stdout",
     "output_type": "stream",
     "text": [
      "\r\n",
      "Welcome to quantQ\r\n",
      "   ____ \\ \\   \r\n",
      "  / ___| \\ \\  \r\n",
      " | |_| |  ) )   \r\n",
      "  \\__  | / /   \r\n",
      "     |_|/ /     \r\n",
      "\r\n",
      "For available sub-namespaces, type key`.quantQ:\r\n",
      "()\n",
      "\r\n",
      "For functions in a namespace, type .e.g \\f .quantQ.rf\r\n",
      "\r\n"
     ]
    },
    {
     "name": "stderr",
     "output_type": "stream",
     "text": [
      "2020-12-02 22:52:37.272142: I tensorflow/stream_executor/platform/default/dso_loader.cc:44] Successfully opened dynamic library cudart64_101.dll\n",
      "Using TensorFlow backend.\n"
     ]
    },
    {
     "name": "stdout",
     "output_type": "stream",
     "text": [
      "Microsoft Visual C++ Redistributable is not installed, this may lead to the DLL load failure.\n",
      "                 It can be downloaded at https://aka.ms/vs/16/release/vc_redist.x64.exe\n",
      "Requirements for latex report generation are not satisfied. Pylatex must be installed. Reportlab will be used for report generation.\n",
      "Requirements for NLP models are not satisfied. gensim must be installed. NLP module will not be available.\n"
     ]
    }
   ],
   "source": [
    "/load machine learning library from: Machine Learning and Big Data with kdb+/q book by Novotny et al.\n",
    "\\c 100 100\n",
    "\\cd C:\\q\\w32\\\n",
    "\n",
    "/ Import Python libraries\n",
    "\\l p.q\n",
    "\n",
    "\n",
    "\\l quantQ\\lib\\quantQjupyterq.q\n",
    "\\l mlnotebooks\\utils\\graphics.q\n",
    "\\l automl/automl.q\n",
    ".automl.loadfile`:init.q\n",
    "/load mlnotebooks toolkit\n",
    "\\l ml/ml.q\n",
    ".ml.loadfile`:init.q\n",
    ".ml.loadfile`:graph/init.q\n",
    "\\l mlnotebooks\\utils\\graphics.q\n",
    "\\l mlnotebooks\\utils\\util.q\n",
    "/graphing \n",
    "\\l embedPy\\examples\\importmatplotlib.q\n",
    "plt:.matplotlib.pyplot[]\n",
    "\n",
    "\n"
   ]
  },
  {
   "cell_type": "code",
   "execution_count": 2,
   "metadata": {},
   "outputs": [
    {
     "name": "stdout",
     "output_type": "stream",
     "text": [
      "Id MSSubClass MSZoning LotFrontage LotArea Street Alley LotShape LandContour Utilities LotConfig ..\r\n",
      "-------------------------------------------------------------------------------------------------..\r\n",
      "1  60         RL       65          8450    Pave   NA    Reg      Lvl         AllPub    Inside    ..\r\n",
      "2  20         RL       80          9600    Pave   NA    Reg      Lvl         AllPub    FR2       ..\r\n",
      "3  60         RL       68          11250   Pave   NA    IR1      Lvl         AllPub    Inside    ..\r\n",
      "4  70         RL       60          9550    Pave   NA    IR1      Lvl         AllPub    Corner    ..\r\n",
      "5  60         RL       84          14260   Pave   NA    IR1      Lvl         AllPub    FR2       ..\r\n",
      "6  50         RL       85          14115   Pave   NA    IR1      Lvl         AllPub    Inside    ..\r\n",
      "7  20         RL       75          10084   Pave   NA    Reg      Lvl         AllPub    Inside    ..\r\n",
      "8  60         RL                   10382   Pave   NA    IR1      Lvl         AllPub    Corner    ..\r\n",
      "9  50         RM       51          6120    Pave   NA    Reg      Lvl         AllPub    Inside    ..\r\n",
      "10 190        RL       50          7420    Pave   NA    Reg      Lvl         AllPub    Corner    ..\r\n",
      "11 20         RL       70          11200   Pave   NA    Reg      Lvl         AllPub    Inside    ..\r\n",
      "12 60         RL       85          11924   Pave   NA    IR1      Lvl         AllPub    Inside    ..\r\n",
      "13 20         RL                   12968   Pave   NA    IR2      Lvl         AllPub    Inside    ..\r\n",
      "14 20         RL       91          10652   Pave   NA    IR1      Lvl         AllPub    Inside    ..\r\n",
      "15 20         RL                   10920   Pave   NA    IR1      Lvl         AllPub    Corner    ..\r\n",
      "16 45         RM       51          6120    Pave   NA    Reg      Lvl         AllPub    Corner    ..\r\n",
      "17 20         RL                   11241   Pave   NA    IR1      Lvl         AllPub    CulDSac   ..\r\n",
      "18 90         RL       72          10791   Pave   NA    Reg      Lvl         AllPub    Inside    ..\r\n",
      "19 20         RL       66          13695   Pave   NA    Reg      Lvl         AllPub    Inside    ..\r\n",
      "20 20         RL       70          7560    Pave   NA    Reg      Lvl         AllPub    Inside    ..\r\n"
     ]
    }
   ],
   "source": [
    "show 20#t:(\"FFSFFSSSSSSSSSSSSFFFFSSSSSFSSSSSSSFSFFFSSSSFFFFFFFFFFSFSFSSFSFFSSSFFFFFFSSSFFFSSF\";enlist\",\") 0: `:C:/MLProjects/HousePrices/train.csv"
   ]
  },
  {
   "cell_type": "code",
   "execution_count": 3,
   "metadata": {},
   "outputs": [
    {
     "name": "stdout",
     "output_type": "stream",
     "text": [
      "Shape of features is 1460 x 81\r\n"
     ]
    },
    {
     "data": {
      "text/plain": [
       "1b\r\n"
      ]
     },
     "execution_count": 3,
     "metadata": {},
     "output_type": "execute_result"
    }
   ],
   "source": [
    "/Check Shape\n",
    "-1\"Shape of features is \",sv[\" x \"]string .ml.shape t;\n",
    "/Check for duplicate rows\n",
    "count[t]~count exec distinct Id from t"
   ]
  },
  {
   "cell_type": "code",
   "execution_count": 4,
   "metadata": {},
   "outputs": [
    {
     "data": {
      "text/plain": [
       "             | count unique mean       std       min    max     type       \r\n",
       "--           | ------------------------------------------------------------\r\n",
       "Id           | 1460  1460   730.5      421.61    1f     1460f   numeric    \r\n",
       "MSSubClass   | 1460  15     56.89726   42.30057  20f    190f    numeric    \r\n",
       "LotFrontage  | 1460  111    70.04996   24.28475  21f    313f    numeric    \r\n",
       "LotArea      | 1460  1073   10516.83   9981.265  1300f  215245f numeric    \r\n",
       "OverallQual  | 1460  10     6.099315   1.382997  1f     10f     numeric    \r\n",
       "OverallCond  | 1460  9      5.575342   1.112799  1f     9f      numeric    \r\n",
       "YearBuilt    | 1460  112    1971.268   30.2029   1872f  2010f   numeric    \r\n",
       "YearRemodAdd | 1460  61     1984.866   20.64541  1950f  2010f   numeric    \r\n",
       "MasVnrArea   | 1460  328    103.6853   181.0662  0f     1600f   numeric    \r\n",
       "BsmtFinSF1   | 1460  637    443.6397   456.0981  0f     5644f   numeric    \r\n",
       "BsmtFinSF2   | 1460  144    46.54932   161.3193  0f     1474f   numeric    \r\n",
       "BsmtUnfSF    | 1460  780    567.2404   441.867   0f     2336f   numeric    \r\n",
       "TotalBsmtSF  | 1460  721    1057.429   438.7053  0f     6110f   numeric    \r\n",
       "1stFlrSF     | 1460  753    1162.627   386.5877  334f   4692f   numeric    \r\n",
       "2ndFlrSF     | 1460  417    346.9925   436.5284  0f     2065f   numeric    \r\n",
       "LowQualFinSF | 1460  24     5.844521   48.62308  0f     572f    numeric    \r\n",
       "GrLivArea    | 1460  861    1515.464   525.4804  334f   5642f   numeric    \r\n",
       "BsmtFullBath | 1460  4      0.4253425  0.5189106 0f     3f      numeric    \r\n",
       "BsmtHalfBath | 1460  3      0.05753425 0.2387526 0f     2f      numeric    \r\n",
       "FullBath     | 1460  4      1.565068   0.5509158 0f     3f      numeric    \r\n",
       "HalfBath     | 1460  3      0.3828767  0.5028854 0f     2f      numeric    \r\n",
       "BedroomAbvGr | 1460  8      2.866438   0.815778  0f     8f      numeric    \r\n",
       "KitchenAbvGr | 1460  4      1.046575   0.2203382 0f     3f      numeric    \r\n",
       "TotRmsAbvGrd | 1460  12     6.517808   1.625393  2f     14f     numeric    \r\n",
       "Fireplaces   | 1460  4      0.6130137  0.6446664 0f     3f      numeric    \r\n",
       "GarageYrBlt  | 1460  98     1978.506   24.68972  1900f  2010f   numeric    \r\n",
       "GarageCars   | 1460  5      1.767123   0.747315  0f     4f      numeric    \r\n",
       "GarageArea   | 1460  441    472.9801   213.8048  0f     1418f   numeric    \r\n",
       "WoodDeckSF   | 1460  274    94.24452   125.3388  0f     857f    numeric    \r\n",
       "OpenPorchSF  | 1460  202    46.66027   66.25603  0f     547f    numeric    \r\n",
       "EnclosedPorch| 1460  120    21.95411   61.11915  0f     552f    numeric    \r\n",
       "3SsnPorch    | 1460  20     3.409589   29.31733  0f     508f    numeric    \r\n",
       "ScreenPorch  | 1460  76     15.06096   55.75742  0f     480f    numeric    \r\n",
       "PoolArea     | 1460  8      2.758904   40.17731  0f     738f    numeric    \r\n",
       "MiscVal      | 1460  21     43.48904   496.123   0f     15500f  numeric    \r\n",
       "MoSold       | 1460  12     6.321918   2.703626  1f     12f     numeric    \r\n",
       "YrSold       | 1460  5      2007.816   1.328095  2006f  2010f   numeric    \r\n",
       "SalePrice    | 1460  663    180921.2   79442.5   34900f 755000f numeric    \r\n",
       "MSZoning     | 1460  5      ::         ::        ::     ::      categorical\r\n",
       "Street       | 1460  2      ::         ::        ::     ::      categorical\r\n",
       "Alley        | 1460  3      ::         ::        ::     ::      categorical\r\n",
       "LotShape     | 1460  4      ::         ::        ::     ::      categorical\r\n",
       "LandContour  | 1460  4      ::         ::        ::     ::      categorical\r\n",
       "Utilities    | 1460  2      ::         ::        ::     ::      categorical\r\n",
       "LotConfig    | 1460  5      ::         ::        ::     ::      categorical\r\n",
       "LandSlope    | 1460  3      ::         ::        ::     ::      categorical\r\n",
       "Neighborhood | 1460  25     ::         ::        ::     ::      categorical\r\n",
       "Condition1   | 1460  9      ::         ::        ::     ::      categorical\r\n",
       "Condition2   | 1460  8      ::         ::        ::     ::      categorical\r\n",
       "BldgType     | 1460  5      ::         ::        ::     ::      categorical\r\n",
       "HouseStyle   | 1460  8      ::         ::        ::     ::      categorical\r\n",
       "RoofStyle    | 1460  6      ::         ::        ::     ::      categorical\r\n",
       "RoofMatl     | 1460  8      ::         ::        ::     ::      categorical\r\n",
       "Exterior1st  | 1460  15     ::         ::        ::     ::      categorical\r\n",
       "Exterior2nd  | 1460  16     ::         ::        ::     ::      categorical\r\n",
       "MasVnrType   | 1460  5      ::         ::        ::     ::      categorical\r\n",
       "ExterQual    | 1460  4      ::         ::        ::     ::      categorical\r\n",
       "ExterCond    | 1460  5      ::         ::        ::     ::      categorical\r\n",
       "Foundation   | 1460  6      ::         ::        ::     ::      categorical\r\n",
       "BsmtQual     | 1460  5      ::         ::        ::     ::      categorical\r\n",
       "BsmtCond     | 1460  5      ::         ::        ::     ::      categorical\r\n",
       "BsmtExposure | 1460  5      ::         ::        ::     ::      categorical\r\n",
       "BsmtFinType1 | 1460  7      ::         ::        ::     ::      categorical\r\n",
       "BsmtFinType2 | 1460  7      ::         ::        ::     ::      categorical\r\n",
       "Heating      | 1460  6      ::         ::        ::     ::      categorical\r\n",
       "HeatingQC    | 1460  5      ::         ::        ::     ::      categorical\r\n",
       "CentralAir   | 1460  2      ::         ::        ::     ::      categorical\r\n",
       "Electrical   | 1460  6      ::         ::        ::     ::      categorical\r\n",
       "KitchenQual  | 1460  4      ::         ::        ::     ::      categorical\r\n",
       "Functional   | 1460  7      ::         ::        ::     ::      categorical\r\n",
       "FireplaceQu  | 1460  6      ::         ::        ::     ::      categorical\r\n",
       "GarageType   | 1460  7      ::         ::        ::     ::      categorical\r\n",
       "GarageFinish | 1460  4      ::         ::        ::     ::      categorical\r\n",
       "GarageQual   | 1460  6      ::         ::        ::     ::      categorical\r\n",
       "GarageCond   | 1460  6      ::         ::        ::     ::      categorical\r\n",
       "PavedDrive   | 1460  3      ::         ::        ::     ::      categorical\r\n",
       "PoolQC       | 1460  4      ::         ::        ::     ::      categorical\r\n",
       "Fence        | 1460  5      ::         ::        ::     ::      categorical\r\n",
       "MiscFeature  | 1460  5      ::         ::        ::     ::      categorical\r\n",
       "SaleType     | 1460  9      ::         ::        ::     ::      categorical\r\n",
       "SaleCondition| 1460  6      ::         ::        ::     ::      categorical\r\n"
      ]
     },
     "execution_count": 4,
     "metadata": {},
     "output_type": "execute_result"
    }
   ],
   "source": [
    "/Initial check of data, looking for numeric, discrete, and continuous categories\n",
    "\n",
    "TrainingPrice: exec SalePrice from t\n",
    "\n",
    "prob_typ:`normal\n",
    "tgt_typ:`reg\n",
    "\n",
    ".automl.prep.i.describe[t]"
   ]
  },
  {
   "cell_type": "code",
   "execution_count": 5,
   "metadata": {},
   "outputs": [
    {
     "data": {
      "text/plain": [
       "columnName  nullCount\r\n",
       "---------------------\r\n",
       "LotFrontage 259      \r\n",
       "MasVnrArea  8        \r\n",
       "GarageYrBlt 81       \r\n"
      ]
     },
     "execution_count": 5,
     "metadata": {},
     "output_type": "execute_result"
    }
   ],
   "source": [
    "/Data Exploration for null \n",
    "/nulltablefunction:{![x;();0b;( cols x)!((count cols x)#0N)]}\n",
    "\n",
    "nullExplore:flip `columnName`nullCount!(key;value)@\\:sum null t\n",
    "select from nullExplore where nullCount >0"
   ]
  },
  {
   "cell_type": "code",
   "execution_count": 0,
   "metadata": {},
   "outputs": [
    {
     "ename": "\u001b[0;31mparse error\u001b[0m",
     "evalue": "\u001b[0;31mfrom\u001b[0m",
     "output_type": "error",
     "traceback": [
      "\u001b[0;31mparse error\u001b[0m",
      "\u001b[0;31mfrom\u001b[0m"
     ]
    }
   ],
   "source": [
    "/First, we deal with Masonry Veneer nulls\n",
    "\n",
    "select MasVnrType, MasVnrArea from t where MasVnrArea = 0N\n",
    "t: update MasVnrArea:{$[x~0Ni;0;x]}0\n",
    "\n",
    "nullExplore:flip `columnName`nullCount!(key;value)@\\:sum null t\n",
    "select from nullExplore where nullCount >0"
   ]
  },
  {
   "cell_type": "code",
   "execution_count": 6,
   "metadata": {},
   "outputs": [
    {
     "data": {
      "text/plain": [
       "SalePrice\r\n",
       "---------\r\n",
       "181620.1 \r\n"
      ]
     },
     "execution_count": 6,
     "metadata": {},
     "output_type": "execute_result"
    },
    {
     "data": {
      "text/plain": [
       "LotFrontage LotArea LotConfig LotShape\r\n",
       "--------------------------------------\r\n",
       "            10382   Corner    IR1     \r\n",
       "            12968   Inside    IR2     \r\n",
       "            10920   Corner    IR1     \r\n",
       "            11241   CulDSac   IR1     \r\n",
       "            8246    Inside    IR1     \r\n"
      ]
     },
     "execution_count": 6,
     "metadata": {},
     "output_type": "execute_result"
    },
    {
     "data": {
      "text/plain": [
       "SalePrice\r\n",
       "---------\r\n",
       "180770.5 \r\n"
      ]
     },
     "execution_count": 6,
     "metadata": {},
     "output_type": "execute_result"
    },
    {
     "data": {
      "text/plain": [
       "LotFrontage LotArea LotConfig LotShape\r\n",
       "--------------------------------------\r\n",
       "65          8450    Inside    Reg     \r\n",
       "80          9600    FR2       Reg     \r\n",
       "68          11250   Inside    IR1     \r\n",
       "60          9550    Corner    IR1     \r\n",
       "84          14260   FR2       IR1     \r\n"
      ]
     },
     "execution_count": 6,
     "metadata": {},
     "output_type": "execute_result"
    }
   ],
   "source": [
    "/explore Lot data\n",
    "\n",
    "select avg SalePrice from t where LotFrontage  = 0N\n",
    "5#select LotFrontage, LotArea, LotConfig, LotShape from t where LotFrontage  = 0N\n",
    "\n",
    "select avg SalePrice from t where (LotFrontage  = 0N)=0b\n",
    "5#select LotFrontage, LotArea, LotConfig, LotShape from t where (LotFrontage  = 0N)=0b"
   ]
  },
  {
   "cell_type": "code",
   "execution_count": 7,
   "metadata": {},
   "outputs": [
    {
     "data": {
      "text/plain": [
       "{[f;x]embedPy[f;x]}[foreign]enlist\r\n"
      ]
     },
     "execution_count": 7,
     "metadata": {},
     "output_type": "execute_result"
    },
    {
     "data": {
      "image/png": "[encoded data removed]",
      "text/plain": [
       "<Figure size 460.8x345.6 with 1 Axes>"
      ]
     },
     "metadata": {},
     "output_type": "display_data"
    },
    {
     "data": {
      "text/plain": [
       "{[f;x]embedPy[f;x]}[foreign]enlist\r\n"
      ]
     },
     "execution_count": 7,
     "metadata": {},
     "output_type": "execute_result"
    },
    {
     "data": {
      "image/png": "[encoded data removed]",
      "text/plain": [
       "<Figure size 460.8x345.6 with 1 Axes>"
      ]
     },
     "metadata": {},
     "output_type": "display_data"
    },
    {
     "data": {
      "text/plain": [
       "{[f;x]embedPy[f;x]}[foreign]enlist\r\n"
      ]
     },
     "execution_count": 7,
     "metadata": {},
     "output_type": "execute_result"
    },
    {
     "data": {
      "image/png": "[encoded data removed]",
      "text/plain": [
       "<Figure size 460.8x345.6 with 1 Axes>"
      ]
     },
     "metadata": {},
     "output_type": "display_data"
    }
   ],
   "source": [
    "lots:exec LotArea from t\n",
    "sales:exec SalePrice from t\n",
    "frontage:exec LotFrontage from t\n",
    "\n",
    "plt.scatter[lots;sales]\n",
    "plt.xlabel\"LotArea\";\n",
    "plt.ylabel\"SalePrice\";\n",
    "\n",
    "plt.title\"LotArea\";\n",
    "plt.grid 1b;\n",
    "plt.show[];\n",
    "\n",
    "plt.xlabel\"Log LotArea\";\n",
    "plt.ylabel\"Log SalePrice\";\n",
    "plt.title\"LotArea\";\n",
    "plt.grid 1b;\n",
    "\n",
    "plt.scatter[log lots; log sales]\n",
    "plt.show[];\n",
    "\n",
    "plt.xlabel\"Log LotFrontage\";\n",
    "plt.ylabel\"Log SalePrice\";\n",
    "plt.title\"LotFrontage\";\n",
    "plt.grid 1b;\n",
    "\n",
    "plt.scatter[log frontage; log sales]\n",
    "plt.show[];"
   ]
  },
  {
   "cell_type": "code",
   "execution_count": 8,
   "metadata": {},
   "outputs": [
    {
     "data": {
      "text/plain": [
       "LotArea| 10516.83\r\n"
      ]
     },
     "execution_count": 8,
     "metadata": {},
     "output_type": "execute_result"
    },
    {
     "data": {
      "text/plain": [
       "LotArea| 9478.5\r\n"
      ]
     },
     "execution_count": 8,
     "metadata": {},
     "output_type": "execute_result"
    },
    {
     "data": {
      "text/plain": [
       "SalePrice| 180921.2\r\n"
      ]
     },
     "execution_count": 8,
     "metadata": {},
     "output_type": "execute_result"
    },
    {
     "data": {
      "text/plain": [
       "\"Where LotFrontage has missing values:\"\r\n"
      ]
     },
     "execution_count": 8,
     "metadata": {},
     "output_type": "execute_result"
    },
    {
     "data": {
      "text/plain": [
       "LotArea| 13137.37\r\n"
      ]
     },
     "execution_count": 8,
     "metadata": {},
     "output_type": "execute_result"
    },
    {
     "data": {
      "text/plain": [
       "LotArea| 10624\r\n"
      ]
     },
     "execution_count": 8,
     "metadata": {},
     "output_type": "execute_result"
    },
    {
     "data": {
      "text/plain": [
       "SalePrice| 181620.1\r\n"
      ]
     },
     "execution_count": 8,
     "metadata": {},
     "output_type": "execute_result"
    }
   ],
   "source": [
    "/explore possible pattern for LotFrontage nulls\n",
    "avg select LotArea from t \n",
    "med select LotArea from t\n",
    "avg select SalePrice from t\n",
    "\"Where LotFrontage has missing values:\"\n",
    "avg select LotArea from t where LotFrontage = 0N\n",
    "med select LotArea from t where LotFrontage = 0N\n",
    "avg select SalePrice from t where LotFrontage = 0N"
   ]
  },
  {
   "cell_type": "code",
   "execution_count": 9,
   "metadata": {},
   "outputs": [],
   "source": [
    "/LotFrontage nulls have no effect on SalePrice, though 30% increase on LotArea avg, 10% on LotArea med\n",
    "/Replace null values with median\n",
    "medfrontage:med exec LotFrontage from t\n",
    "t:update medfrontage^LotFrontage from t;"
   ]
  },
  {
   "cell_type": "code",
   "execution_count": 10,
   "metadata": {},
   "outputs": [
    {
     "data": {
      "text/plain": [
       "SalePrice\r\n",
       "---------\r\n",
       "103317.3 \r\n"
      ]
     },
     "execution_count": 10,
     "metadata": {},
     "output_type": "execute_result"
    },
    {
     "data": {
      "text/plain": [
       "GarageType GarageFinish GarageCars GarageArea GarageQual GarageCond\r\n",
       "-------------------------------------------------------------------\r\n",
       "NA         NA           0          0          NA         NA        \r\n",
       "NA         NA           0          0          NA         NA        \r\n",
       "NA         NA           0          0          NA         NA        \r\n",
       "NA         NA           0          0          NA         NA        \r\n",
       "NA         NA           0          0          NA         NA        \r\n"
      ]
     },
     "execution_count": 10,
     "metadata": {},
     "output_type": "execute_result"
    },
    {
     "data": {
      "text/plain": [
       "SalePrice\r\n",
       "---------\r\n",
       "185479.5 \r\n"
      ]
     },
     "execution_count": 10,
     "metadata": {},
     "output_type": "execute_result"
    },
    {
     "data": {
      "text/plain": [
       "GarageType GarageFinish GarageCars GarageArea GarageQual GarageCond\r\n",
       "-------------------------------------------------------------------\r\n",
       "Attchd     RFn          2          548        TA         TA        \r\n",
       "Attchd     RFn          2          460        TA         TA        \r\n",
       "Attchd     RFn          2          608        TA         TA        \r\n",
       "Detchd     Unf          3          642        TA         TA        \r\n",
       "Attchd     RFn          3          836        TA         TA        \r\n"
      ]
     },
     "execution_count": 10,
     "metadata": {},
     "output_type": "execute_result"
    }
   ],
   "source": [
    "/explore garage data\n",
    "\n",
    "select avg SalePrice from t where GarageType = `NA\n",
    "5#select GarageType, GarageFinish, GarageCars, GarageArea, GarageQual, GarageCond from t where GarageYrBlt  = 0N\n",
    "\n",
    "select avg SalePrice from t where (GarageType = `NA)=0b\n",
    "5#select GarageType, GarageFinish, GarageCars, GarageArea, GarageQual, GarageCond from t where (GarageYrBlt  = 0N)=0b"
   ]
  },
  {
   "cell_type": "code",
   "execution_count": 11,
   "metadata": {},
   "outputs": [
    {
     "data": {
      "text/plain": [
       "{[f;x]embedPy[f;x]}[foreign]enlist\r\n"
      ]
     },
     "execution_count": 11,
     "metadata": {},
     "output_type": "execute_result"
    },
    {
     "data": {
      "image/png": "[encoded data removed]",
      "text/plain": [
       "<Figure size 460.8x345.6 with 1 Axes>"
      ]
     },
     "metadata": {},
     "output_type": "display_data"
    },
    {
     "data": {
      "text/plain": [
       "{[f;x]embedPy[f;x]}[foreign]enlist\r\n"
      ]
     },
     "execution_count": 11,
     "metadata": {},
     "output_type": "execute_result"
    },
    {
     "data": {
      "image/png": "[encoded data removed]",
      "text/plain": [
       "<Figure size 460.8x345.6 with 1 Axes>"
      ]
     },
     "metadata": {},
     "output_type": "display_data"
    },
    {
     "data": {
      "text/plain": [
       "{[f;x]embedPy[f;x]}[foreign]enlist\r\n"
      ]
     },
     "execution_count": 11,
     "metadata": {},
     "output_type": "execute_result"
    },
    {
     "data": {
      "image/png": "[encoded data removed]",
      "text/plain": [
       "<Figure size 460.8x345.6 with 1 Axes>"
      ]
     },
     "metadata": {},
     "output_type": "display_data"
    },
    {
     "data": {
      "text/plain": [
       "{[f;x]embedPy[f;x]}[foreign]enlist\r\n"
      ]
     },
     "execution_count": 11,
     "metadata": {},
     "output_type": "execute_result"
    },
    {
     "data": {
      "image/png": "[encoded data removed]",
      "text/plain": [
       "<Figure size 460.8x345.6 with 1 Axes>"
      ]
     },
     "metadata": {},
     "output_type": "display_data"
    },
    {
     "data": {
      "text/plain": [
       "{[f;x]embedPy[f;x]}[foreign]enlist\r\n"
      ]
     },
     "execution_count": 11,
     "metadata": {},
     "output_type": "execute_result"
    },
    {
     "data": {
      "image/png": "[encoded data removed]",
      "text/plain": [
       "<Figure size 460.8x345.6 with 1 Axes>"
      ]
     },
     "metadata": {},
     "output_type": "display_data"
    }
   ],
   "source": [
    "Year:exec GarageYrBlt from t\n",
    "sales:exec SalePrice from t\n",
    "\n",
    "\n",
    "plt.xlabel\"Garage Year Built\";\n",
    "plt.ylabel\"SalePrice\";\n",
    "plt.title\"Garage Year Built\";\n",
    "plt.grid 1b;\n",
    "\n",
    "plt.scatter[Year; log sales]\n",
    "plt.show[];\n",
    "\n",
    "garagecars1:exec GarageCars from t where GarageCars=1\n",
    "sales1:exec SalePrice from t where GarageCars=1\n",
    "sales1q1:.ml.percentile[sales1;.25]\n",
    "sales1q2:.ml.percentile[sales1;.5]\n",
    "sales1q3:.ml.percentile[sales1;.75]\n",
    "garagecars1boxplotdata:(sales1; sales1q2; sales1q3; sales1q1)\n",
    "\n",
    "garagecars2:exec GarageCars from t where GarageCars=2\n",
    "sales2:exec SalePrice from t where GarageCars=2\n",
    "sales2q1:.ml.percentile[sales2;.25]\n",
    "sales2q2:.ml.percentile[sales2;.5]\n",
    "sales2q3:.ml.percentile[sales2;.75]\n",
    "garagecars2boxplotdata:(sales2; sales2q2; sales2q3; sales2q1)\n",
    "\n",
    "garagecars3:exec GarageCars from t where GarageCars=3\n",
    "sales3:exec SalePrice from t where GarageCars=3\n",
    "sales3q1:.ml.percentile[sales3;.25]\n",
    "sales3q2:.ml.percentile[sales3;.5]\n",
    "sales3q3:.ml.percentile[sales3;.75]\n",
    "garagecars3boxplotdata:(sales3; sales3q2; sales3q3; sales3q1)\n",
    "\n",
    "garagecars4:exec GarageCars from t where GarageCars=4\n",
    "sales4:exec SalePrice from t where GarageCars=4\n",
    "sales4q1:.ml.percentile[sales4;.25]\n",
    "sales4q2:.ml.percentile[sales4;.5]\n",
    "sales4q3:.ml.percentile[sales4;.75]\n",
    "garagecars4boxplotdata:(sales4; sales4q2; sales4q3; sales4q1)\n",
    "\n",
    "garage1:(garagecars1;sales1)\n",
    "garage2:(garagecars2;sales2)\n",
    "garage3:(garagecars3;sales3)\n",
    "garage4:(garagecars4;sales4)\n",
    "\n",
    "plt.ylabel\"SalePrice\";\n",
    "plt.title\"1 Car Garage\";\n",
    "plt.boxplot[garagecars1boxplotdata]\n",
    "plt.show[];\n",
    "\n",
    "plt.ylabel\"SalePrice\";\n",
    "plt.title\"2 Car Garage\";\n",
    "plt.boxplot[garagecars2boxplotdata]\n",
    "plt.show[];\n",
    "\n",
    "plt.ylabel\"SalePrice\";\n",
    "plt.title\"3 Car Garage\";\n",
    "plt.boxplot[garagecars3boxplotdata]\n",
    "plt.show[];\n",
    "\n",
    "plt.ylabel\"SalePrice\";\n",
    "plt.title\"4 Car Garage\";\n",
    "plt.boxplot[garagecars4boxplotdata]\n",
    "plt.show[];\n",
    "\n"
   ]
  },
  {
   "cell_type": "code",
   "execution_count": 12,
   "metadata": {},
   "outputs": [
    {
     "data": {
      "text/plain": [
       "SalePrice    | 538000  555000  556581  582933  611657  625000  745000  755000 \r\n",
       "Id           | 770     441     1047    804     899     1170    1183    692    \r\n",
       "MSSubClass   | 60      20      60      60      20      60      60      60     \r\n",
       "MSZoning     | RL      RL      RL      RL      RL      RL      RL      RL     \r\n",
       "LotFrontage  | 47      105     85      107     100     118     160     104    \r\n",
       "LotArea      | 53504   15431   16056   13891   12919   35760   15623   21535  \r\n",
       "Street       | Pave    Pave    Pave    Pave    Pave    Pave    Pave    Pave   \r\n",
       "Alley        | NA      NA      NA      NA      NA      NA      NA      NA     \r\n",
       "LotShape     | IR2     Reg     IR1     Reg     IR1     IR1     IR1     IR1    \r\n",
       "LandContour  | HLS     Lvl     Lvl     Lvl     Lvl     Lvl     Lvl     Lvl    \r\n",
       "Utilities    | AllPub  AllPub  AllPub  AllPub  AllPub  AllPub  AllPub  AllPub \r\n",
       "LotConfig    | CulDSac Inside  Inside  Inside  Inside  CulDSac Corner  Corner \r\n",
       "LandSlope    | Mod     Gtl     Gtl     Gtl     Gtl     Gtl     Gtl     Gtl    \r\n",
       "Neighborhood | StoneBr NridgHt StoneBr NridgHt NridgHt NoRidge NoRidge NoRidge\r\n",
       "Condition1   | Norm    Norm    Norm    Norm    Norm    Norm    Norm    Norm   \r\n",
       "Condition2   | Norm    Norm    Norm    Norm    Norm    Norm    Norm    Norm   \r\n",
       "BldgType     | 1Fam    1Fam    1Fam    1Fam    1Fam    1Fam    1Fam    1Fam   \r\n",
       "HouseStyle   | 2Story  1Story  2Story  2Story  1Story  2Story  2Story  2Story \r\n",
       "OverallQual  | 8       10      9       9       9       10      10      10     \r\n",
       "OverallCond  | 5       5       5       5       5       5       5       6      \r\n",
       "YearBuilt    | 2003    2008    2005    2008    2009    1995    1996    1994   \r\n",
       "YearRemodAdd | 2003    2008    2006    2009    2010    1996    1996    1995   \r\n",
       "RoofStyle    | Hip     Hip     Hip     Hip     Hip     Hip     Hip     Gable  \r\n",
       "RoofMatl     | CompShg CompShg CompShg CompShg CompShg CompShg CompShg WdShngl\r\n",
       "Exterior1st  | CemntBd VinylSd CemntBd VinylSd VinylSd HdBoard Wd Sdng HdBoard\r\n",
       "Exterior2nd  | Wd Shng VinylSd CmentBd VinylSd VinylSd HdBoard ImStucc HdBoard\r\n",
       "MasVnrType   | BrkFace Stone   Stone   Stone   Stone   BrkFace None    BrkFace\r\n",
       "MasVnrArea   | 603     200     208     424     760     1378    0       1170   \r\n",
       "ExterQual    | Ex      Ex      Gd      Ex      Ex      Gd      Gd      Ex     \r\n",
       "ExterCond    | TA      TA      TA      TA      TA      Gd      TA      TA     \r\n",
       "Foundation   | PConc   PConc   PConc   PConc   PConc   PConc   PConc   PConc  \r\n",
       "BsmtQual     | Gd      Ex      Ex      Ex      Ex      Ex      Ex      Ex     \r\n",
       "BsmtCond     | TA      TA      TA      TA      TA      TA      TA      TA     \r\n",
       "BsmtExposure | Gd      Gd      Av      Gd      Gd      Gd      Av      Gd     \r\n",
       "BsmtFinType1 | ALQ     GLQ     GLQ     Unf     GLQ     GLQ     GLQ     GLQ    \r\n",
       "BsmtFinSF1   | 1416    1767    240     0       2188    1387    2096    1455   \r\n",
       "BsmtFinType2 | Unf     ALQ     Unf     Unf     Unf     Unf     Unf     Unf    \r\n",
       "BsmtFinSF2   | 0       539     0       0       0       0       0       0      \r\n",
       "BsmtUnfSF    | 234     788     1752    1734    142     543     300     989    \r\n",
       "TotalBsmtSF  | 1650    3094    1992    1734    2330    1930    2396    2444   \r\n",
       "Heating      | GasA    GasA    GasA    GasA    GasA    GasA    GasA    GasA   \r\n",
       "HeatingQC    | Ex      Ex      Ex      Ex      Ex      Ex      Ex      Ex     \r\n",
       "CentralAir   | Y       Y       Y       Y       Y       Y       Y       Y      \r\n",
       "Electrical   | SBrkr   SBrkr   SBrkr   SBrkr   SBrkr   SBrkr   SBrkr   SBrkr  \r\n",
       "1stFlrSF     | 1690    2402    1992    1734    2364    1831    2411    2444   \r\n",
       "2ndFlrSF     | 1589    0       876     1088    0       1796    2065    1872   \r\n",
       "LowQualFinSF | 0       0       0       0       0       0       0       0      \r\n",
       "GrLivArea    | 3279    2402    2868    2822    2364    3627    4476    4316   \r\n",
       "BsmtFullBath | 1       1       0       0       1       1       1       0      \r\n",
       "BsmtHalfBath | 0       0       0       0       0       0       0       1      \r\n",
       "FullBath     | 3       2       3       3       2       3       3       3      \r\n",
       "HalfBath     | 1       0       1       1       1       1       1       1      \r\n",
       "BedroomAbvGr | 4       2       4       4       2       4       4       4      \r\n",
       "KitchenAbvGr | 1       1       1       1       1       1       1       1      \r\n",
       "KitchenQual  | Ex      Ex      Ex      Ex      Ex      Gd      Ex      Ex     \r\n",
       "TotRmsAbvGrd | 12      10      11      12      11      10      10      10     \r\n",
       "Functional   | Mod     Typ     Typ     Typ     Typ     Typ     Typ     Typ    \r\n",
       "Fireplaces   | 1       2       1       1       2       1       2       2      \r\n",
       "FireplaceQu  | Gd      Gd      Gd      Gd      Gd      TA      TA      Ex     \r\n",
       "GarageType   | BuiltIn Attchd  BuiltIn BuiltIn Attchd  Attchd  Attchd  Attchd \r\n",
       "GarageYrBlt  | 2003    2008    2005    2009    2009    1995    1996    1994   \r\n",
       "GarageFinish | Fin     Fin     Fin     RFn     Fin     Fin     Fin     Fin    \r\n",
       "GarageCars   | 3       3       3       3       3       3       3       3      \r\n",
       "GarageArea   | 841     672     716     1020    820     807     813     832    \r\n",
       "GarageQual   | TA      TA      TA      TA      TA      TA      TA      TA     \r\n",
       "GarageCond   | TA      TA      TA      TA      TA      TA      TA      TA     \r\n",
       "PavedDrive   | Y       Y       Y       Y       Y       Y       Y       Y      \r\n",
       "WoodDeckSF   | 503     0       214     52      0       361     171     382    \r\n",
       "OpenPorchSF  | 36      72      108     170     67      76      78      50     \r\n",
       "EnclosedPorch| 0       0       0       0       0       0       0       0      \r\n",
       "3SsnPorch    | 0       0       0       0       0       0       0       0      \r\n",
       "ScreenPorch  | 210     170     0       192     0       0       0       0      \r\n",
       "PoolArea     | 0       0       0       0       0       0       555     0      \r\n",
       "PoolQC       | NA      NA      NA      NA      NA      NA      Ex      NA     \r\n",
       "Fence        | NA      NA      NA      NA      NA      NA      MnPrv   NA     \r\n",
       "MiscFeature  | NA      NA      NA      NA      NA      NA      NA      NA     \r\n",
       "MiscVal      | 0       0       0       0       0       0       0       0      \r\n",
       "MoSold       | 6       4       7       1       3       7       7       1      \r\n",
       "YrSold       | 2010    2009    2006    2009    2010    2006    2007    2007   \r\n",
       "SaleType     | WD      WD      New     New     New     WD      WD      WD     \r\n",
       "SaleCondition| Normal  Normal  Partial Partial Partial Normal  Abnorml Normal \r\n"
      ]
     },
     "execution_count": 12,
     "metadata": {},
     "output_type": "execute_result"
    }
   ],
   "source": [
    "/Let's explore the top 8 entries\n",
    "flip () xkey -8#select by SalePrice from t"
   ]
  },
  {
   "cell_type": "code",
   "execution_count": 13,
   "metadata": {},
   "outputs": [],
   "source": [
    "/\n",
    "Time to combine features and drop others using Multiple Factor Analysis\n",
    "To do so, I need to replace categorical variables with \"dummy variables\" 0 and 1, ordinal variables with a scale\n",
    "Note: ordinal variables will have an equal distance imposed on them, though this is likely appropriate for most variables\n",
    "Normalize:LowQualFinSF by 1stFlrSF,2ndFlrSF, BsmtFinSF1 BsmtFinSF2 and BsmtUnfSF by TotalBsmtSF\n",
    "Combine:\n",
    "GARAGE INFO: GarageType, GarageFinish, GarageCars, GarageArea, GarageQual, GarageCond, GarageYrBlt  \n",
    "BASEMENT INFO: BsmtFinSF1,BsmtFinSF2,BsmtUnfSF,TotalBsmtSF,BsmtFullBath,BsmtHalfBath,\n",
    "BsmtQual,BsmtCond,BsmtExposure,BsmtFinType1,BsmtFinType2 \n",
    "\n",
    "Above Grade INFO: \n",
    "\n",
    "\\"
   ]
  },
  {
   "cell_type": "code",
   "execution_count": 14,
   "metadata": {},
   "outputs": [
    {
     "data": {
      "text/plain": [
       "Attchd Detchd BuiltIn CarPort NA Basment 2Types\r\n"
      ]
     },
     "execution_count": 14,
     "metadata": {},
     "output_type": "execute_result"
    },
    {
     "data": {
      "text/plain": [
       "RFn Unf Fin NA\r\n"
      ]
     },
     "execution_count": 14,
     "metadata": {},
     "output_type": "execute_result"
    },
    {
     "data": {
      "text/plain": [
       "TA Fa Gd NA Ex Po\r\n"
      ]
     },
     "execution_count": 14,
     "metadata": {},
     "output_type": "execute_result"
    },
    {
     "data": {
      "text/plain": [
       "TA Fa NA Gd Po Ex\r\n"
      ]
     },
     "execution_count": 14,
     "metadata": {},
     "output_type": "execute_result"
    }
   ],
   "source": [
    "/Look at garage categorical date\n",
    "enlist exec distinct GarageType from t  \n",
    "enlist exec distinct GarageFinish from t  \n",
    "enlist exec distinct GarageQual from t  \n",
    "enlist exec distinct GarageCond from t  \n"
   ]
  },
  {
   "cell_type": "code",
   "execution_count": 15,
   "metadata": {},
   "outputs": [
    {
     "data": {
      "text/plain": [
       "1379 22\r\n"
      ]
     },
     "execution_count": 15,
     "metadata": {},
     "output_type": "execute_result"
    }
   ],
   "source": [
    "/Build table with only houses with garages, only columns regarding tables\n",
    "GarageTable:select Id,GarageType, GarageFinish, GarageCars, GarageArea, GarageQual, GarageCond, GarageYrBlt,SalePrice from t where (GarageYrBlt  = 0N)=0b\n",
    "/Build dummy variable columns\n",
    "newCols1:enlist exec distinct GarageType from t \n",
    "/Column name 2Types will give us trouble, kdb does not like column names beginning with a number. We redo it manually\n",
    "newCols1:enlist `GTypeAttchd, `GTypeDetchd, `GTypeBuiltIn, `GTypeCarPort, `GTypeNA, `GTypeBasment, `GType2Types\n",
    "/Can't have duplicate column names\n",
    "newCols2:enlist `GFinishRFn, `GFinishUnf, `GFinishFin, `GFinishNA \n",
    "/GarageQual and GarageCond are ordinal variables, I will replace with scale 0-5\n",
    "newCols3:`ScaleGarageQual \n",
    "newCols4:`ScaleGarageCond\n",
    "/add dummy variable columns\n",
    "GarageTable:@[GarageTable;newCols1,newCols2,newCols3,newCols4;:;`]\n",
    "\n",
    ".ml.shape GarageTable"
   ]
  },
  {
   "cell_type": "code",
   "execution_count": null,
   "metadata": {},
   "outputs": [],
   "source": []
  },
  {
   "cell_type": "code",
   "execution_count": 16,
   "metadata": {},
   "outputs": [
    {
     "data": {
      "text/plain": [
       "`GarageTable\r\n"
      ]
     },
     "execution_count": 16,
     "metadata": {},
     "output_type": "execute_result"
    },
    {
     "data": {
      "text/plain": [
       "`GarageTable\r\n"
      ]
     },
     "execution_count": 16,
     "metadata": {},
     "output_type": "execute_result"
    },
    {
     "data": {
      "text/plain": [
       "1i\r\n"
      ]
     },
     "execution_count": 16,
     "metadata": {},
     "output_type": "execute_result"
    },
    {
     "data": {
      "text/plain": [
       "1i\r\n"
      ]
     },
     "execution_count": 16,
     "metadata": {},
     "output_type": "execute_result"
    },
    {
     "data": {
      "text/plain": [
       "GarageQual ScaleGarageQual GarageCond ScaleGarageCond\r\n",
       "-----------------------------------------------------\r\n",
       "TA         3               TA         3              \r\n",
       "TA         3               TA         3              \r\n",
       "TA         3               TA         3              \r\n",
       "TA         3               TA         3              \r\n",
       "TA         3               TA         3              \r\n",
       "TA         3               TA         3              \r\n",
       "TA         3               TA         3              \r\n",
       "TA         3               TA         3              \r\n",
       "Fa         2               TA         3              \r\n",
       "Gd         4               TA         3              \r\n"
      ]
     },
     "execution_count": 16,
     "metadata": {},
     "output_type": "execute_result"
    }
   ],
   "source": [
    "/Now fill in dummy variable columns. Note: this process creates the dummy columns AND fills.\n",
    "GarageTypeList:exec GarageType from GarageTable\n",
    "![`GarageTable; (); 0b; `GTypeAttchd`GTypeDetchd`GTypeBuiltIn`GTypeCarPort`GTypeNA`GTypeBasment`GType2Types!(.quantQ.preml.distanceCategorical[`Attchd,`Detchd,`BuiltIn,`CarPort,`NA,`Basment,`2Types ; (GarageTypeList;GarageTypeList;GarageTypeList;GarageTypeList;GarageTypeList;GarageTypeList;GarageTypeList)])]\n",
    "\n",
    "GarageFinishList:exec GarageFinish from GarageTable\n",
    "![`GarageTable; (); 0b; `GFinishRFn`GFinishUnf`GFinishFin`GFinishNA!(.quantQ.preml.distanceCategorical[`RFn, `Unf, `Fin, `NA ; (GarageFinishList;GarageFinishList;GarageFinishList;GarageFinishList)])]\n",
    "\n",
    "/We need a function to replace ordinalvariables TA, Fa, Gd, NA, Ex, Po with numbers\n",
    "OrdinalScale:{[OrdinalList]\n",
    "    //OrdinalList -- list of the non-numeric features in order from lowest rank to highest\n",
    "    IndList:distinct OrdinalList;\n",
    "    :IndList!til count IndList;\n",
    " };\n",
    "GarageQualList:exec GarageQual from GarageTable\n",
    "GarageTable:update ScaleGarageQual:OrdinalScale[`NA, `Po, `Fa, `TA, `Gd, `Ex] GarageQualList from GarageTable\n",
    "\n",
    "GarageCondList:exec GarageCond from GarageTable\n",
    "GarageTable:update ScaleGarageCond:OrdinalScale[`NA, `Po, `Fa, `TA, `Gd, `Ex] GarageCondList from GarageTable\n",
    "\n",
    "/check there is a single '1' across columns denoting GarageType, GarageFinish\n",
    "max sum exec GTypeAttchd,GTypeDetchd,GTypeBuiltIn,GTypeCarPort,GTypeNA,GTypeBasment,GType2Types from GarageTable\n",
    "max sum exec GFinishRFn,GFinishUnf,GFinishFin,GFinishNA from GarageTable\n",
    "/check proper scaling for ScaleGarageQual, ScaleGarageCond\n",
    "10#select GarageQual,ScaleGarageQual,GarageCond,ScaleGarageCond from GarageTable"
   ]
  },
  {
   "cell_type": "code",
   "execution_count": 17,
   "metadata": {},
   "outputs": [
    {
     "data": {
      "text/plain": [
       "1379 9\r\n"
      ]
     },
     "execution_count": 17,
     "metadata": {},
     "output_type": "execute_result"
    },
    {
     "data": {
      "text/plain": [
       "            | count unique mean        std        min max type   \r\n",
       "----------- | ---------------------------------------------------\r\n",
       "GTypeAttchd | 1379  2      0.630892    0.4827383  0   1   numeric\r\n",
       "GTypeDetchd | 1379  2      0.2806381   0.449474   0   1   numeric\r\n",
       "GTypeBuiltIn| 1379  2      0.06381436  0.2445106  0   1   numeric\r\n",
       "GTypeCarPort| 1379  2      0.006526468 0.08055172 0   1   numeric\r\n",
       "GTypeBasment| 1379  2      0.0137781   0.116611   0   1   numeric\r\n",
       "GType2Types | 1379  2      0.004350979 0.06584217 0   1   numeric\r\n",
       "GFinishRFn  | 1379  2      0.3060189   0.4610048  0   1   numeric\r\n",
       "GFinishUnf  | 1379  2      0.4387237   0.496411   0   1   numeric\r\n",
       "GFinishFin  | 1379  2      0.2552574   0.436164   0   1   numeric\r\n"
      ]
     },
     "execution_count": 17,
     "metadata": {},
     "output_type": "execute_result"
    }
   ],
   "source": [
    "/after confirming no errors, we delete the categorical columns from GarageTable\n",
    "GarageTable:delete GarageType,GarageFinish,GarageQual,GarageCond from GarageTable\n",
    "/\n",
    "With dummy/scale variables replacing categorical/ordinal varibles, we move on to utilize a Multi Factor Analysis (MFA)\n",
    "MFA is a synthesis of Principle Component Analysis (PCA) and Multiple Correspondence Analysis (MCA)\n",
    "First, we build an Indicator Matrix, or Complete Disjuctive Table (CDT) from dummy variablesto use for our MCA\n",
    "\\\n",
    "GarageCDT:select GTypeAttchd,GTypeDetchd,GTypeBuiltIn,GTypeCarPort,GTypeNA,GTypeBasment,GType2Types,GFinishRFn,GFinishUnf,GFinishFin,GFinishNA from GarageTable\n",
    "GarageCDT*:1f /change from boolean to float\n",
    "/Drop superfluous columns containing only zeros\n",
    "GarageCDT:delete GTypeNA, GFinishNA from GarageCDT\n",
    ".ml.shape[GarageCDT]\n",
    ".automl.prep.i.describe[GarageCDT]"
   ]
  },
  {
   "cell_type": "code",
   "execution_count": 18,
   "metadata": {},
   "outputs": [
    {
     "data": {
      "text/plain": [
       "GTypeAttchd GTypeDetchd GTypeBuiltIn GTypeCarPort GTypeBasment GType2Types GFinishRFn GFinishUnf ..\r\n",
       "-------------------------------------------------------------------------------------------------..\r\n",
       "-0.369108   0           0            0            0            0           -0.6939811 0          ..\r\n",
       "-0.369108   0           0            0            0            0           0          -0.5612763 ..\r\n",
       "-0.369108   0           0            0            0            0           -0.6939811 0          ..\r\n",
       "-0.369108   0           0            0            0            0           0          -0.5612763 ..\r\n",
       "-0.369108   0           0            0            0            0           0          0          ..\r\n"
      ]
     },
     "execution_count": 18,
     "metadata": {},
     "output_type": "execute_result"
    }
   ],
   "source": [
    "/\n",
    "In the CDT, each categorical variable has multiple columns, so we must correct the entries so as to not overestimate \n",
    "the variance of the solution space. We divide each entry by the proportion of variables fit in that category, and\n",
    "then subtract 1 to center the variable. The rarer the category, the bigger the entry in our new Transformed CDT (TCDT)\n",
    "\\\n",
    "/use functional update to transform CDT to TSDT\n",
    "TCDTfunction:{[table;column]\n",
    " /I need to use atomic and vector operations, but have trouble using both in same functional update, so I use two updates\n",
    " TCDT:![table;();0b;(enlist column)!(enlist(+;-1;(*;column;(avg;column))))];\n",
    " TCDT:![TCDT;(enlist (=;column;-1));0b;(enlist column)!(enlist(+;1;column))];\n",
    " TCDT} \n",
    "/My function doesn't like multiple columns passed at a time. I'll figure out why later...\n",
    "GarageTCDT:TCDTfunction[GarageCDT;]`GTypeAttchd\n",
    "GarageTCDT:TCDTfunction[GarageTCDT;]`GTypeDetchd\n",
    "GarageTCDT:TCDTfunction[GarageTCDT;]`GTypeBuiltIn\n",
    "GarageTCDT:TCDTfunction[GarageTCDT;]`GTypeCarPort \n",
    "GarageTCDT:TCDTfunction[GarageTCDT;]`GTypeBasment \n",
    "GarageTCDT:TCDTfunction[GarageTCDT;]`GType2Types \n",
    "GarageTCDT:TCDTfunction[GarageTCDT;]`GFinishRFn \n",
    "GarageTCDT:TCDTfunction[GarageTCDT;]`GFinishUnf\n",
    "GarageTCDT:TCDTfunction[GarageTCDT;]`GFinishFin\n",
    "-5#GarageTCDT\n",
    "\n"
   ]
  },
  {
   "cell_type": "code",
   "execution_count": 19,
   "metadata": {},
   "outputs": [
    {
     "name": "stdout",
     "output_type": "stream",
     "text": [
      "Id| GarageCars GarageArea GarageYrBlt ScaleGarageQual ScaleGarageCond GTypeAttchd GTypeDetchd GTy..\r\n",
      "--| ---------------------------------------------------------------------------------------------..\r\n",
      "1 | 2          548        2003        3               3               -0.369108   0           0  ..\r\n",
      "2 | 2          460        1976        3               3               -0.369108   0           0  ..\r\n",
      "3 | 2          608        2001        3               3               -0.369108   0           0  ..\r\n",
      "4 | 3          642        1998        3               3               0           -0.7193619  0  ..\r\n",
      "5 | 3          836        2000        3               3               -0.369108   0           0  ..\r\n",
      "Id| GarageCars GarageArea GarageYrBlt ScaleGarageQual ScaleGarageCond GTypeAttchd GTypeDetchd GTy..\r\n",
      "--| ---------------------------------------------------------------------------------------------..\r\n",
      "1 | 0.2048694  0.2544039  0.992066    0.09917839      0.1089893       -0.369108   0           0  ..\r\n",
      "2 | 0.2048694  -0.2195284 -0.1015064  0.09917839      0.1089893       -0.369108   0           0  ..\r\n",
      "3 | 0.2048694  0.5775396  0.9110606   0.09917839      0.1089893       -0.369108   0           0  ..\r\n",
      "4 | 1.792032   0.7606498  0.7895526   0.09917839      0.1089893       0           -0.7193619  0  ..\r\n",
      "5 | 1.792032   1.805455   0.8705579   0.09917839      0.1089893       -0.369108   0           0  ..\r\n"
     ]
    },
    {
     "data": {
      "text/plain": [
       "1379 14\r\n"
      ]
     },
     "execution_count": 19,
     "metadata": {},
     "output_type": "execute_result"
    }
   ],
   "source": [
    "/With our TCDT done, we build a table for continuous Garage variables and normalize remaining variables\n",
    "GarageTable:`Id xkey GarageTable //key the table by Id\n",
    "\n",
    "GarageContinuousTable:select Id, GarageCars, GarageArea, GarageYrBlt, ScaleGarageQual, ScaleGarageCond from GarageTable\n",
    "GarageContinuousTable:`Id xkey GarageContinuousTable\n",
    "show 5#GarageCombinedTable:GarageContinuousTable,'GarageTCDT\n",
    ".ml.shape[GarageCombinedTable]\n",
    "\n",
    "/Normalization of remaining variables\n",
    "\n",
    "GarageCombinedTable: update GarageCars:.quantQ.preml.zScoreNorm[exec GarageCars  from GarageCombinedTable] from GarageCombinedTable\n",
    "GarageCombinedTable: update GarageArea:.quantQ.preml.zScoreNorm[exec GarageArea  from GarageCombinedTable] from GarageCombinedTable\n",
    "GarageCombinedTable: update GarageYrBlt:.quantQ.preml.zScoreNorm[exec GarageYrBlt  from GarageCombinedTable] from GarageCombinedTable\n",
    "GarageCombinedTable: update ScaleGarageQual:.quantQ.preml.zScoreNorm[exec ScaleGarageQual  from GarageCombinedTable] from GarageCombinedTable\n",
    "show 5#GarageCombinedTable: update ScaleGarageCond:.quantQ.preml.zScoreNorm[exec ScaleGarageCond  from GarageCombinedTable] from GarageCombinedTable\n",
    "\n",
    "\n"
   ]
  },
  {
   "cell_type": "code",
   "execution_count": 20,
   "metadata": {},
   "outputs": [
    {
     "data": {
      "text/plain": [
       "name             coeff       error      tStat          significance       \r\n",
       "--------------------------------------------------------------------------\r\n",
       "GarageArea       0.723873    0.01760727 41.11216       \"**** (99.9% c.l.)\"\r\n",
       "GarageYrBlt      0.1469113   0.01997254 7.355663       \"**** (99.9% c.l.)\"\r\n",
       "ScaleGarageQual  -0.04370163 0.01846133 -2.367198      \"*** (99% c.l.)\"   \r\n",
       "ScaleGarageCond  -0.03351252 0.01826162 -1.835134      \"** (95% c.l.)\"    \r\n",
       "GTypeAttchd      5.37148     564842.6   9.509692e-006  \"-\"                \r\n",
       "GTypeDetchd      2.843186    289823.5   9.81006e-006   \"-\"                \r\n",
       "GTypeBuiltIn     2.022076    222699.4   9.079847e-006  \"-\"                \r\n",
       "GTypeCarPort     2.010156    209857.6   9.578665e-006  \"-\"                \r\n",
       "GTypeBasment     2.162201    211400.7   1.022797e-005  \"-\"                \r\n",
       "GType2Types      1.793165    209399.1   8.563389e-006  \"-\"                \r\n",
       "GFinishRFn       -2.825255   300423.1   -9.404253e-006 \"-\"                \r\n",
       "GFinishUnf       -3.435708   371453.4   -9.249365e-006 \"-\"                \r\n",
       "GFinishFin       -2.892045   279946.4   -1.033071e-005 \"-\"                \r\n",
       "STATISTICS                                             \"\"                 \r\n",
       "nObservations    1                                     \"\"                 \r\n",
       "nParameters      13                                    \"\"                 \r\n",
       "TSS              1378                                  \"\"                 \r\n",
       "RSS              375.4594                              \"\"                 \r\n",
       "Rsquared         0.7275331                             \"\"                 \r\n",
       "RsquaredAdjusted 0.7255414                             \"\"                 \r\n",
       "logLikelihood    -1059.702                             \"\"                 \r\n",
       "AIC              2145.404                              \"\"                 \r\n",
       "AICC             2145.665                              \"\"                 \r\n"
      ]
     },
     "execution_count": 20,
     "metadata": {},
     "output_type": "execute_result"
    }
   ],
   "source": [
    "/\n",
    "Next, we conduct Principal Axis Factoring(PAF) to create weights for artificial variables.\n",
    "PAF differs from PCA in that PCA assumes each variable has no unique variance\n",
    "PAF process is same as PCA, except that diagonal components of covariance matrix are replaced with Coefficient of Determination (CoD)\n",
    "CoD is the proportion of variance in the dependent variable predicted by the independent variables\n",
    "\\\n",
    "pafGarage:value GarageCombinedTable //new table drops Id the key\n",
    "/covarianceMatrix[pafGarage]\n",
    ".quantQ.ols.olsTab[pafGarage]\n",
    "/\n",
    "PAF of GarageCombinedTable \n",
    "show 5#pafGarage:pafGarage[cols pafGarage] \n",
    ".ml.shape[pafGarage]\n",
    "pafGarage:.quantQ.mat.pca[pafGarage]\n",
    "pafGarage[`tab]"
   ]
  },
  {
   "cell_type": "code",
   "execution_count": 21,
   "metadata": {},
   "outputs": [
    {
     "data": {
      "text/plain": [
       "GarageCars     | 0.7255414\r\n",
       "GarageArea     | 0.710326\r\n",
       "GarageYrBlt    | 0.5155047\r\n",
       "ScaleGarageQual| 0.4128863\r\n",
       "ScaleGarageCond| 1\r\n",
       "GTypeAttchd    | 1\r\n",
       "GTypeDetchd    | 1\r\n",
       "GTypeBuiltIn   | 1\r\n",
       "GTypeCarPort   | 1\r\n",
       "GTypeBasment   | 1\r\n",
       "GType2Types    | 1\r\n",
       "GFinishRFn     | 1\r\n",
       "GFinishUnf     | 1\r\n",
       "GFinishFin     | 1\r\n"
      ]
     },
     "execution_count": 21,
     "metadata": {},
     "output_type": "execute_result"
    }
   ],
   "source": [
    "CoefficientOfDetermination:{[tab] //Has dependency on quantQ library\n",
    "    // tab -- table with data\n",
    "    table:tab;\n",
    "    CoDList:();\n",
    "    shiftCol:neg -1+count cols table; //used to move first col to back\n",
    "    yName:first cols table;\n",
    "    xNames:1_cols table;\n",
    "    // running regressions\n",
    "    reg:.quantQ.ols.fit[table[yName];table[xNames]];\n",
    "    //reg[`adjRsquared];\n",
    "    //CoDList,:reg[`adjRsquared];\n",
    "    //table:(shiftCol#cols table) xcols table;\n",
    "    counter:1+count cols table;\n",
    "    while[counter-:1;yName:first cols table;xNames:1_cols table;reg:.quantQ.ols.fit[table[yName];table[xNames]];CoDList,:reg[`adjRsquared]; table:(shiftCol#cols table) xcols table;];\n",
    "   \n",
    "    :CoDList;\n",
    " };\n",
    "Diagonal:CoefficientOfDetermination[pafGarage]\n",
    "(cols pafGarage)!(Diagonal)"
   ]
  },
  {
   "cell_type": "code",
   "execution_count": 22,
   "metadata": {},
   "outputs": [],
   "source": [
    "//It was expected that the dummy variables would all recieve 1 as their CoD, but ScaleGarageCond? A superfluous variable\n",
    "//Now I need to replace the diagonal of the correlation matrix with the list of CoDs\n",
    "\n",
    "getDiagonal: {x@'til count x};\n"
   ]
  },
  {
   "cell_type": "code",
   "execution_count": null,
   "metadata": {},
   "outputs": [],
   "source": []
  },
  {
   "cell_type": "code",
   "execution_count": 23,
   "metadata": {},
   "outputs": [
    {
     "name": "stdout",
     "output_type": "stream",
     "text": [
      "0.2873888 -0.9325023 -0.1898074 2.187913  1.208099 3.356551   -2.923419 0.4995197 0.999293   -0.3..\r\n",
      "0.9210894 0.3265138  2.795611   0.2016095 2.083075 -0.9328886 1.104722  1.445637  3.137341   0.98..\r\n",
      "3.631101  5.269683   0.7578251  2.602915  5.296913 1.451481   2.04311   -0.265961 -0.1259144 2.05..\r\n",
      "tab            | +`variance`weights`relVariance!(4.677071 3.077934 1.222075;(0.1969649 -0.5334037..\r\n",
      "dataTransformed| (2.552269 3.977054 -0.9051809 2.464583 3.484121 2.35273 0.5156068 -0.8915023 -1...\r\n"
     ]
    },
    {
     "data": {
      "text/plain": [
       "variance weights                         relVariance\r\n",
       "----------------------------------------------------\r\n",
       "4.677071 0.1969649 -0.5334037 0.8226088  0.5210013  \r\n",
       "3.077934 0.6541797 -0.5534454 -0.5155066 0.3428658  \r\n",
       "1.222075 0.7302423 0.6396707  0.2399326  0.1361328  \r\n"
      ]
     },
     "execution_count": 23,
     "metadata": {},
     "output_type": "execute_result"
    },
    {
     "data": {
      "text/plain": [
       "3 1000\r\n"
      ]
     },
     "execution_count": 23,
     "metadata": {},
     "output_type": "execute_result"
    }
   ],
   "source": [
    "/\n",
    "show quantdata:.quantQ.simul.multiNormal[3;1000;3?2.0;(2.0 -1.0 0.0;-1.0 3.0 -1.0;0.0 -1.0 4.0)][`var1`var2`var3]\n",
    "show PCAquantdata:.quantQ.mat.pca[quantdata]\n",
    "PCAquantdata[`tab]\n",
    ".ml.shape[quantdata]"
   ]
  },
  {
   "cell_type": "code",
   "execution_count": null,
   "metadata": {},
   "outputs": [],
   "source": []
  },
  {
   "cell_type": "code",
   "execution_count": 24,
   "metadata": {},
   "outputs": [],
   "source": [
    "/gradient boosting, decide using whether garage or not,basement or not\n",
    "/Need elastic net regression, LASSO saturates too quickly with high dimensional spaces, combo of L1 and L2 (ridge and LASSO)\n"
   ]
  }
 ],
 "metadata": {
  "kernelspec": {
   "display_name": "Q (kdb+)",
   "language": "q",
   "name": "qpk"
  },
  "language_info": {
   "file_extension": ".q",
   "mimetype": "text/x-q",
   "name": "q",
   "version": "4.0"
  }
 },
 "nbformat": 4,
 "nbformat_minor": 4
}
